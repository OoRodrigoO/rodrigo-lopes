{
 "cells": [
  {
   "cell_type": "markdown",
   "id": "07527ec2-31e3-4f54-a0c3-444a4081cb9b",
   "metadata": {
    "tags": []
   },
   "source": [
    "## Data Science Tools and Ecosystem"
   ]
  },
  {
   "cell_type": "markdown",
   "id": "35c13baa-5249-424e-8bc9-43cc6014fc3d",
   "metadata": {},
   "source": [
    "**In this notebook, Data Science Tools and Ecosystem are summarized.**"
   ]
  },
  {
   "cell_type": "markdown",
   "id": "6fb841c7-043f-4622-9a89-c5f6b5c7d463",
   "metadata": {},
   "source": [
    "**Some of the key takeaways from the course**\n",
    "- Popular languages in Data Science;\n",
    "- Commonly libraries used by Data Scientists;\n",
    "- Some Tools used in Data Science;"
   ]
  },
  {
   "cell_type": "markdown",
   "id": "314d01cd-41bc-4142-9f7c-8461615bf3d2",
   "metadata": {},
   "source": [
    "Some of the popular languages that Data Scientists use are:\n",
    "1. Python\n",
    "2. SQL\n",
    "3. R Language\n",
    "4. Java"
   ]
  },
  {
   "cell_type": "markdown",
   "id": "d967886d-ad1e-47bb-8336-5ac0dfaf1134",
   "metadata": {
    "tags": []
   },
   "source": [
    "Some of the commonly used libraries used by Data Scientists include:\n",
    "- Pandas\n",
    "- NumPy\n",
    "- ScyPy\n",
    "- ggplot2\n",
    "- Matplotlib"
   ]
  },
  {
   "cell_type": "markdown",
   "id": "e9fd296b-eab7-4d9e-8473-bcd02efdbbc4",
   "metadata": {},
   "source": [
    "|Data Science Tools|\n",
    "|------------------|\n",
    "|Jupyter|\n",
    "|RStudio|\n",
    "|Python|"
   ]
  },
  {
   "cell_type": "markdown",
   "id": "8e64daed-5ebc-4b2f-9d26-3a4f60412a40",
   "metadata": {},
   "source": [
    "### Below are a few examples of evaluating arithmetic expressions in Python"
   ]
  },
  {
   "cell_type": "code",
   "execution_count": 4,
   "id": "1fef95db-ecb7-46bd-b989-ab85990a65b3",
   "metadata": {
    "tags": []
   },
   "outputs": [
    {
     "data": {
      "text/plain": [
       "17"
      ]
     },
     "execution_count": 4,
     "metadata": {},
     "output_type": "execute_result"
    }
   ],
   "source": [
    "# This is a simple arithmetic expression to multiply then add integers.\n",
    "result = (3 * 4) + 5\n",
    "\n",
    "# Display the result\n",
    "result\n"
   ]
  },
  {
   "cell_type": "code",
   "execution_count": 12,
   "id": "9113cc27-1c25-4afd-98ef-e2d762d77b7e",
   "metadata": {
    "tags": []
   },
   "outputs": [
    {
     "name": "stdout",
     "output_type": "stream",
     "text": [
      "200 minutes equals to 3.3333333333333335  hours\n"
     ]
    }
   ],
   "source": [
    "#This will convert 200 minutes to hours by diving by 60\n",
    "result = 200/60\n",
    "\n",
    "#Display the result\n",
    "print (\"200 minutes equals to\",result, \" hours\")"
   ]
  },
  {
   "cell_type": "markdown",
   "id": "9c6bacd6-31a1-4f83-8392-daaa9863617c",
   "metadata": {},
   "source": [
    "## Author\n",
    "name Author"
   ]
  }
 ],
 "metadata": {
  "kernelspec": {
   "display_name": "Python",
   "language": "python",
   "name": "conda-env-python-py"
  },
  "language_info": {
   "codemirror_mode": {
    "name": "ipython",
    "version": 3
   },
   "file_extension": ".py",
   "mimetype": "text/x-python",
   "name": "python",
   "nbconvert_exporter": "python",
   "pygments_lexer": "ipython3",
   "version": "3.7.12"
  }
 },
 "nbformat": 4,
 "nbformat_minor": 5
}
